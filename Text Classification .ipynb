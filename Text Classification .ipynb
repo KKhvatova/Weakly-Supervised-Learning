{
 "cells": [
  {
   "cell_type": "code",
   "execution_count": 52,
   "metadata": {},
   "outputs": [],
   "source": [
    "from sklearn import model_selection, preprocessing, linear_model, naive_bayes, metrics, svm\n",
    "from sklearn.feature_extraction.text import TfidfVectorizer, CountVectorizer\n",
    "from sklearn import decomposition, ensemble\n",
    "\n",
    "import pandas as pd\n",
    "import numpy as np\n",
    "import string\n",
    "from keras.preprocessing import text, sequence\n",
    "from keras import layers, models, optimizers\n",
    "\n",
    "from sklearn.utils import shuffle\n",
    "\n",
    "import matplotlib.pyplot as plt\n",
    "import seaborn as sn\n",
    "\n",
    "from mlxtend.evaluate import confusion_matrix \n",
    "from mlxtend.plotting import plot_confusion_matrix\n",
    "\n",
    "import warnings\n",
    "warnings.filterwarnings('ignore')"
   ]
  },
  {
   "cell_type": "code",
   "execution_count": 30,
   "metadata": {},
   "outputs": [
    {
     "data": {
      "text/html": [
       "<div>\n",
       "<style scoped>\n",
       "    .dataframe tbody tr th:only-of-type {\n",
       "        vertical-align: middle;\n",
       "    }\n",
       "\n",
       "    .dataframe tbody tr th {\n",
       "        vertical-align: top;\n",
       "    }\n",
       "\n",
       "    .dataframe thead th {\n",
       "        text-align: right;\n",
       "    }\n",
       "</style>\n",
       "<table border=\"1\" class=\"dataframe\">\n",
       "  <thead>\n",
       "    <tr style=\"text-align: right;\">\n",
       "      <th></th>\n",
       "      <th>tweets</th>\n",
       "      <th>label</th>\n",
       "      <th>preprocess_tweets</th>\n",
       "    </tr>\n",
       "  </thead>\n",
       "  <tbody>\n",
       "    <tr>\n",
       "      <th>0</th>\n",
       "      <td>Correct that's because, Mr #Blair you never go...</td>\n",
       "      <td>leave</td>\n",
       "      <td>correct that's because mr &lt;hashtag&gt; you never ...</td>\n",
       "    </tr>\n",
       "    <tr>\n",
       "      <th>1</th>\n",
       "      <td>Safer In #EU? No! No! No! Terrorists want the ...</td>\n",
       "      <td>leave</td>\n",
       "      <td>safer in &lt;hashtag&gt; no no no terrorists want th...</td>\n",
       "    </tr>\n",
       "    <tr>\n",
       "      <th>2</th>\n",
       "      <td>This. https://t.co/WRtzpWsxiT</td>\n",
       "      <td>leave</td>\n",
       "      <td>this &lt;url&gt;</td>\n",
       "    </tr>\n",
       "    <tr>\n",
       "      <th>3</th>\n",
       "      <td>We're going to be swamped by Turks and other f...</td>\n",
       "      <td>leave</td>\n",
       "      <td>we're going to be swamped by turks and other f...</td>\n",
       "    </tr>\n",
       "    <tr>\n",
       "      <th>4</th>\n",
       "      <td>#Lexit not #brexit! Public event with great sp...</td>\n",
       "      <td>leave</td>\n",
       "      <td>&lt;hashtag&gt; not &lt;hashtag&gt; public event with grea...</td>\n",
       "    </tr>\n",
       "  </tbody>\n",
       "</table>\n",
       "</div>"
      ],
      "text/plain": [
       "                                              tweets  label  \\\n",
       "0  Correct that's because, Mr #Blair you never go...  leave   \n",
       "1  Safer In #EU? No! No! No! Terrorists want the ...  leave   \n",
       "2                      This. https://t.co/WRtzpWsxiT  leave   \n",
       "3  We're going to be swamped by Turks and other f...  leave   \n",
       "4  #Lexit not #brexit! Public event with great sp...  leave   \n",
       "\n",
       "                                   preprocess_tweets  \n",
       "0  correct that's because mr <hashtag> you never ...  \n",
       "1  safer in <hashtag> no no no terrorists want th...  \n",
       "2                                         this <url>  \n",
       "3  we're going to be swamped by turks and other f...  \n",
       "4  <hashtag> not <hashtag> public event with grea...  "
      ]
     },
     "execution_count": 30,
     "metadata": {},
     "output_type": "execute_result"
    }
   ],
   "source": [
    "path = 'train_test_dataset.csv'\n",
    "df_positive_negative = pd.read_csv(path)\n",
    "df_positive_negative.head()"
   ]
  },
  {
   "cell_type": "code",
   "execution_count": 31,
   "metadata": {},
   "outputs": [],
   "source": [
    "# split the dataset into training and validation datasets \n",
    "train_x, valid_x, train_y, valid_y = model_selection.train_test_split(df_positive_negative['preprocess_tweets'], df_positive_negative['label'])\n",
    "\n",
    "# label encode the target variable \n",
    "encoder = preprocessing.LabelEncoder()\n",
    "train_y = encoder.fit_transform(train_y)\n",
    "valid_y = encoder.fit_transform(valid_y)"
   ]
  },
  {
   "cell_type": "code",
   "execution_count": 32,
   "metadata": {},
   "outputs": [
    {
     "data": {
      "text/plain": [
       "((375,), (125,))"
      ]
     },
     "execution_count": 32,
     "metadata": {},
     "output_type": "execute_result"
    }
   ],
   "source": [
    "train_x.shape, valid_x.shape"
   ]
  },
  {
   "cell_type": "markdown",
   "metadata": {},
   "source": [
    "### Feature Engineering\n",
    "\n",
    "#### Use TF-IDF Vectors as features"
   ]
  },
  {
   "cell_type": "code",
   "execution_count": 33,
   "metadata": {},
   "outputs": [],
   "source": [
    "# word level tf-idf\n",
    "tfidf_vect = TfidfVectorizer(analyzer='word', token_pattern=r'\\w{1,}', max_features=5000)\n",
    "tfidf_vect.fit(df_positive_negative['tweets'])\n",
    "xtrain_tfidf =  tfidf_vect.transform(train_x)\n",
    "xvalid_tfidf =  tfidf_vect.transform(valid_x)\n"
   ]
  },
  {
   "cell_type": "markdown",
   "metadata": {},
   "source": [
    "### Implement Classifier"
   ]
  },
  {
   "cell_type": "code",
   "execution_count": 34,
   "metadata": {},
   "outputs": [],
   "source": [
    "def train_model(classifier, feature_vector_train, label, feature_vector_valid, valid_y, is_neural_net=False):\n",
    "    # fit the training dataset on the classifier\n",
    "    classifier.fit(feature_vector_train, label)\n",
    "    \n",
    "    # predict the labels on validation dataset\n",
    "    predictions = classifier.predict(feature_vector_valid)\n",
    "    \n",
    "    if is_neural_net:\n",
    "        predictions = predictions.argmax(axis=-1)\n",
    "    \n",
    "    return metrics.accuracy_score(predictions, valid_y), metrics.confusion_matrix(predictions, valid_y)"
   ]
  },
  {
   "cell_type": "markdown",
   "metadata": {},
   "source": [
    "### Apply Linear Regression on initial db"
   ]
  },
  {
   "cell_type": "code",
   "execution_count": 62,
   "metadata": {},
   "outputs": [
    {
     "name": "stdout",
     "output_type": "stream",
     "text": [
      "LR ACCURACY:  0.52\n"
     ]
    },
    {
     "data": {
      "image/png": "[encoded data removed]",
      "text/plain": [
       "<Figure size 432x288 with 2 Axes>"
      ]
     },
     "metadata": {
      "needs_background": "light"
     },
     "output_type": "display_data"
    }
   ],
   "source": [
    "# Linear Classifier on Word Vectors\n",
    "accuracy, cm = train_model(linear_model.LogisticRegression(), xtrain_tfidf, train_y, xvalid_tfidf, valid_y)\n",
    "print(\"LR ACCURACY: \", str(round(accuracy, 2)))\n",
    "\n",
    "df_cm = np.array(cm)\n",
    "fig, ax = plot_confusion_matrix(conf_mat=df_cm,\n",
    "                                colorbar=True,\n",
    "                                show_absolute=False,\n",
    "                                show_normed=True,\n",
    "                                class_names=['stay', 'leave'])"
   ]
  },
  {
   "cell_type": "markdown",
   "metadata": {},
   "source": [
    "### Upload new db with labels from snorkel"
   ]
  },
  {
   "cell_type": "code",
   "execution_count": 37,
   "metadata": {},
   "outputs": [
    {
     "data": {
      "text/html": [
       "<div>\n",
       "<style scoped>\n",
       "    .dataframe tbody tr th:only-of-type {\n",
       "        vertical-align: middle;\n",
       "    }\n",
       "\n",
       "    .dataframe tbody tr th {\n",
       "        vertical-align: top;\n",
       "    }\n",
       "\n",
       "    .dataframe thead th {\n",
       "        text-align: right;\n",
       "    }\n",
       "</style>\n",
       "<table border=\"1\" class=\"dataframe\">\n",
       "  <thead>\n",
       "    <tr style=\"text-align: right;\">\n",
       "      <th></th>\n",
       "      <th>tweets</th>\n",
       "      <th>label</th>\n",
       "      <th>preprocess_tweets</th>\n",
       "    </tr>\n",
       "  </thead>\n",
       "  <tbody>\n",
       "    <tr>\n",
       "      <th>0</th>\n",
       "      <td>RT @raymach1: @David_Cameron according to you ...</td>\n",
       "      <td>leave</td>\n",
       "      <td>rt : according to you everything in the world ...</td>\n",
       "    </tr>\n",
       "    <tr>\n",
       "      <th>1</th>\n",
       "      <td>RT @EU_Mainstream: Yet more evidence that #Bre...</td>\n",
       "      <td>stay</td>\n",
       "      <td>rt : yet more evidence that &lt;hashtag&gt; will hav...</td>\n",
       "    </tr>\n",
       "    <tr>\n",
       "      <th>2</th>\n",
       "      <td>The issue in Wales is now one of *perception*....</td>\n",
       "      <td>leave</td>\n",
       "      <td>the issue in wales is now one of * perception ...</td>\n",
       "    </tr>\n",
       "    <tr>\n",
       "      <th>3</th>\n",
       "      <td>RT @nickeardleybbc: Two UKIP members of the We...</td>\n",
       "      <td>leave</td>\n",
       "      <td>rt : two ukip members of the welsh assembly no...</td>\n",
       "    </tr>\n",
       "    <tr>\n",
       "      <th>4</th>\n",
       "      <td>Thing people are forgetting about the debate i...</td>\n",
       "      <td>leave</td>\n",
       "      <td>thing people are forgetting about the debate i...</td>\n",
       "    </tr>\n",
       "  </tbody>\n",
       "</table>\n",
       "</div>"
      ],
      "text/plain": [
       "                                              tweets  label  \\\n",
       "0  RT @raymach1: @David_Cameron according to you ...  leave   \n",
       "1  RT @EU_Mainstream: Yet more evidence that #Bre...   stay   \n",
       "2  The issue in Wales is now one of *perception*....  leave   \n",
       "3  RT @nickeardleybbc: Two UKIP members of the We...  leave   \n",
       "4  Thing people are forgetting about the debate i...  leave   \n",
       "\n",
       "                                   preprocess_tweets  \n",
       "0  rt : according to you everything in the world ...  \n",
       "1  rt : yet more evidence that <hashtag> will hav...  \n",
       "2  the issue in wales is now one of * perception ...  \n",
       "3  rt : two ukip members of the welsh assembly no...  \n",
       "4  thing people are forgetting about the debate i...  "
      ]
     },
     "execution_count": 37,
     "metadata": {},
     "output_type": "execute_result"
    }
   ],
   "source": [
    "path2 = 'data/new_labelled_brexit_preproc.csv'\n",
    "brexit_preproc = pd.read_csv(path2)\n",
    "brexit_preproc.head()"
   ]
  },
  {
   "cell_type": "code",
   "execution_count": 38,
   "metadata": {},
   "outputs": [],
   "source": [
    "# split the dataset into training and validation datasets \n",
    "train_x_new, valid_x_new, train_y_new, valid_y_new = model_selection.train_test_split(brexit_preproc['preprocess_tweets'], brexit_preproc['label'])\n",
    "\n",
    "# label encode the target variable \n",
    "encoder = preprocessing.LabelEncoder()\n",
    "train_y_new = encoder.fit_transform(train_y_new)\n",
    "valid_y_new = encoder.fit_transform(valid_y_new)"
   ]
  },
  {
   "cell_type": "code",
   "execution_count": 39,
   "metadata": {},
   "outputs": [],
   "source": [
    "# word level tf-idf\n",
    "tfidf_vect = TfidfVectorizer(analyzer='word', token_pattern=r'\\w{1,}', max_features=5000)\n",
    "tfidf_vect.fit(brexit_preproc['tweets'])\n",
    "xtrain_tfidf_new =  tfidf_vect.transform(train_x_new)\n",
    "xvalid_tfidf_new =  tfidf_vect.transform(valid_x_new)"
   ]
  },
  {
   "cell_type": "markdown",
   "metadata": {},
   "source": [
    "### Apply Linear Regression on db created with snorkel"
   ]
  },
  {
   "cell_type": "code",
   "execution_count": 63,
   "metadata": {},
   "outputs": [
    {
     "name": "stdout",
     "output_type": "stream",
     "text": [
      "LR ACCURACY:  0.78\n"
     ]
    },
    {
     "data": {
      "image/png": "[encoded data removed]",
      "text/plain": [
       "<Figure size 432x288 with 2 Axes>"
      ]
     },
     "metadata": {
      "needs_background": "light"
     },
     "output_type": "display_data"
    }
   ],
   "source": [
    "# Linear Classifier on Count Vectors\n",
    "accuracy, cm = train_model(linear_model.LogisticRegression(), xtrain_tfidf_new, train_y_new, xvalid_tfidf_new, valid_y_new)\n",
    "print(\"LR ACCURACY: \", str(round(accuracy, 2)))\n",
    "\n",
    "df_cm = np.array(cm)\n",
    "fig, ax = plot_confusion_matrix(conf_mat=df_cm,\n",
    "                                colorbar=True,\n",
    "                                show_absolute=False,\n",
    "                                show_normed=True,\n",
    "                                class_names=['stay', 'leave'])"
   ]
  }
 ],
 "metadata": {
  "kernelspec": {
   "display_name": "Python 3",
   "language": "python",
   "name": "python3"
  },
  "language_info": {
   "codemirror_mode": {
    "name": "ipython",
    "version": 3
   },
   "file_extension": ".py",
   "mimetype": "text/x-python",
   "name": "python",
   "nbconvert_exporter": "python",
   "pygments_lexer": "ipython3",
   "version": "3.5.5"
  }
 },
 "nbformat": 4,
 "nbformat_minor": 2
}
