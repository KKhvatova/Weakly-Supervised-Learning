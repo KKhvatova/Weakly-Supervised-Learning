{
 "cells": [
  {
   "cell_type": "markdown",
   "metadata": {},
   "source": [
    "# Snorkel MeTaL for Brexit"
   ]
  },
  {
   "cell_type": "markdown",
   "metadata": {},
   "source": [
    "### Setup"
   ]
  },
  {
   "cell_type": "code",
   "execution_count": 1,
   "metadata": {},
   "outputs": [],
   "source": [
    "import sys\n",
    "import os\n",
    "sys.path.append('../../metal')\n",
    "import metal"
   ]
  },
  {
   "cell_type": "code",
   "execution_count": 2,
   "metadata": {},
   "outputs": [],
   "source": [
    "%load_ext autoreload\n",
    "%autoreload 2\n",
    "%matplotlib inline"
   ]
  },
  {
   "cell_type": "markdown",
   "metadata": {},
   "source": [
    "## Step 1: Load Data"
   ]
  },
  {
   "cell_type": "markdown",
   "metadata": {},
   "source": [
    "The first step in a Snorkel MeTaL application is preparing your data."
   ]
  },
  {
   "cell_type": "markdown",
   "metadata": {},
   "source": [
    "### Concept 1: Required Data Types"
   ]
  },
  {
   "cell_type": "markdown",
   "metadata": {},
   "source": [
    "In particular, MeTaL makes use of the following types of data (n = # examples, m = # labeling functions):\n",
    "* X: an \\[n\\]-dim iterable of end model inputs (e.g., feature vectors or encoded sentences for an RNN)\n",
    "* Y: an \\[n\\]-dim numpy.ndarray of target labels ($Y \\in \\{1,...,k\\}^n$)\n",
    "* L: an \\[n,m\\] scipy.sparse matrix of noisy labels ($L \\in \\{0,...,k\\}^{n \\times m}$, with label 0 reserved for abstentions\n"
   ]
  },
  {
   "cell_type": "code",
   "execution_count": 3,
   "metadata": {},
   "outputs": [],
   "source": [
    "import scipy.sparse\n",
    "import numpy as np\n",
    "L = scipy.sparse.load_npz('data/gold_label_matrix.npz')\n",
    "Y = np.load('data/gold_labels.npy', allow_pickle=True)\n",
    "X = scipy.sparse.load_npz('data/matrix_for_new_labels.npz')"
   ]
  },
  {
   "cell_type": "code",
   "execution_count": 4,
   "metadata": {},
   "outputs": [
    {
     "name": "stdout",
     "output_type": "stream",
     "text": [
      "(500,)\n",
      "(500, 5)\n",
      "(2684, 5)\n"
     ]
    }
   ],
   "source": [
    "print(Y.shape)\n",
    "print(L.shape)\n",
    "print(X.shape)"
   ]
  },
  {
   "cell_type": "markdown",
   "metadata": {},
   "source": [
    "If you need to divide your data into splits, you can do so with the provided utility function. We split our data 80/10/10 into train/dev/test, stratifying by the labels in `Y` to ensure a similar class balance in each split."
   ]
  },
  {
   "cell_type": "markdown",
   "metadata": {},
   "source": [
    "### Investigate Label Matrices"
   ]
  },
  {
   "cell_type": "markdown",
   "metadata": {},
   "source": [
    "MeTaL comes with a number of analysis tools for investigating your label matrix. \n",
    "For example, you can view summary statistics for each labeling function.\n",
    "If you have a dev set with gold labels, you can view the empirical accuracy of your functions, in addition to the core summary statistics. If you do not have a dev set with gold labels, simply do not specify optional argument Y.\n",
    "\n",
    "Polarity is a list of classes that a labeling function (LF) predicts for one or more examples. Coverage is the fraction of examples that the labeling function predicts over (as opposed to labeling 0 to abstain). Overlaps is the fraction of examples that the labeling function predicts over that at least one other LF predicts over as well. Conflicts is the fraction of examples that the LF predicts as one class but at least one other LF predicts that same example as a different class. Correct, Incorrect, and Empirical Accuracy are all comparisons to the gold standard labels and thus omitted if Y is not specified."
   ]
  },
  {
   "cell_type": "code",
   "execution_count": 5,
   "metadata": {
    "scrolled": true
   },
   "outputs": [
    {
     "data": {
      "text/html": [
       "<div>\n",
       "<style scoped>\n",
       "    .dataframe tbody tr th:only-of-type {\n",
       "        vertical-align: middle;\n",
       "    }\n",
       "\n",
       "    .dataframe tbody tr th {\n",
       "        vertical-align: top;\n",
       "    }\n",
       "\n",
       "    .dataframe thead th {\n",
       "        text-align: right;\n",
       "    }\n",
       "</style>\n",
       "<table border=\"1\" class=\"dataframe\">\n",
       "  <thead>\n",
       "    <tr style=\"text-align: right;\">\n",
       "      <th></th>\n",
       "      <th>Polarity</th>\n",
       "      <th>Coverage</th>\n",
       "      <th>Overlaps</th>\n",
       "      <th>Conflicts</th>\n",
       "      <th>Correct</th>\n",
       "      <th>Incorrect</th>\n",
       "      <th>Emp. Acc.</th>\n",
       "    </tr>\n",
       "  </thead>\n",
       "  <tbody>\n",
       "    <tr>\n",
       "      <th>0</th>\n",
       "      <td>1</td>\n",
       "      <td>0.268</td>\n",
       "      <td>0.170</td>\n",
       "      <td>0.084</td>\n",
       "      <td>89</td>\n",
       "      <td>45</td>\n",
       "      <td>0.664179</td>\n",
       "    </tr>\n",
       "    <tr>\n",
       "      <th>1</th>\n",
       "      <td>1</td>\n",
       "      <td>0.116</td>\n",
       "      <td>0.116</td>\n",
       "      <td>0.030</td>\n",
       "      <td>42</td>\n",
       "      <td>16</td>\n",
       "      <td>0.724138</td>\n",
       "    </tr>\n",
       "    <tr>\n",
       "      <th>2</th>\n",
       "      <td>2</td>\n",
       "      <td>0.248</td>\n",
       "      <td>0.146</td>\n",
       "      <td>0.060</td>\n",
       "      <td>91</td>\n",
       "      <td>33</td>\n",
       "      <td>0.733871</td>\n",
       "    </tr>\n",
       "    <tr>\n",
       "      <th>3</th>\n",
       "      <td>2</td>\n",
       "      <td>0.066</td>\n",
       "      <td>0.036</td>\n",
       "      <td>0.016</td>\n",
       "      <td>19</td>\n",
       "      <td>14</td>\n",
       "      <td>0.575758</td>\n",
       "    </tr>\n",
       "    <tr>\n",
       "      <th>4</th>\n",
       "      <td>2</td>\n",
       "      <td>0.136</td>\n",
       "      <td>0.108</td>\n",
       "      <td>0.034</td>\n",
       "      <td>41</td>\n",
       "      <td>27</td>\n",
       "      <td>0.602941</td>\n",
       "    </tr>\n",
       "  </tbody>\n",
       "</table>\n",
       "</div>"
      ],
      "text/plain": [
       "   Polarity  Coverage  Overlaps  Conflicts  Correct  Incorrect  Emp. Acc.\n",
       "0         1     0.268     0.170      0.084       89         45   0.664179\n",
       "1         1     0.116     0.116      0.030       42         16   0.724138\n",
       "2         2     0.248     0.146      0.060       91         33   0.733871\n",
       "3         2     0.066     0.036      0.016       19         14   0.575758\n",
       "4         2     0.136     0.108      0.034       41         27   0.602941"
      ]
     },
     "execution_count": 5,
     "metadata": {},
     "output_type": "execute_result"
    }
   ],
   "source": [
    "from metal.analysis import lf_summary\n",
    "\n",
    "lf_summary(L,Y=Y)"
   ]
  },
  {
   "cell_type": "markdown",
   "metadata": {},
   "source": [
    "If you're interested in more graphical investigative tools, you can take a look at the Visualization tutorial.  \n",
    "Once you're satisfied with your label matrices, it's time to aggregate the labels using the label model and train an end model with the resulting probabilistic labels."
   ]
  },
  {
   "cell_type": "code",
   "execution_count": 6,
   "metadata": {},
   "outputs": [
    {
     "data": {
      "image/png": "[encoded data removed]",
      "text/plain": [
       "<Figure size 432x288 with 2 Axes>"
      ]
     },
     "metadata": {
      "needs_background": "light"
     },
     "output_type": "display_data"
    }
   ],
   "source": [
    "from metal.contrib.visualization.analysis import view_conflicts\n",
    "\n",
    "if 'CI' not in os.environ:\n",
    "    view_conflicts(L, normalize=False)"
   ]
  },
  {
   "cell_type": "markdown",
   "metadata": {},
   "source": [
    "## Step 2: Train Label Model"
   ]
  },
  {
   "cell_type": "markdown",
   "metadata": {},
   "source": [
    "### Label Model"
   ]
  },
  {
   "cell_type": "markdown",
   "metadata": {},
   "source": [
    "When constructing a LabelModel, the only required argument is `k`, the cardinality of the task. For example, k=2 means a binary classification task where 1 and 2 are the class labels, and 0 is reserved for an abstain."
   ]
  },
  {
   "cell_type": "code",
   "execution_count": 7,
   "metadata": {},
   "outputs": [],
   "source": [
    "from metal.label_model import LabelModel\n",
    "label_model = LabelModel(k=2, seed=123)"
   ]
  },
  {
   "cell_type": "markdown",
   "metadata": {},
   "source": [
    "The only required argument to `LabelModel.train_model()` is a label matrix. All other keyword arguments are optional. \n",
    "\n",
    "For example, if you know the class_balance of your data, you can pass that in as a list or array; alternatively, you may pass in the target labels of your dev set (`Y_dev`) and have the class balance estimated from that. If neither of these is provided, the classes are assumed to be uniformly distributed.\n",
    "\n",
    "Any other keyword arguments (e.g., the number of epochs (`n_epochs`), logging frequency (`log_train_every`), learning rate (`lr`), L2 regularization (`l2`), optimizer type (`optimizer`), etc.) will be used to update the config dict."
   ]
  },
  {
   "cell_type": "code",
   "execution_count": 19,
   "metadata": {},
   "outputs": [
    {
     "name": "stdout",
     "output_type": "stream",
     "text": [
      "Computing O...\n",
      "Estimating \\mu...\n",
      "[50 epo]: TRAIN:[loss=0.013]\n",
      "[100 epo]: TRAIN:[loss=0.009]\n",
      "[150 epo]: TRAIN:[loss=0.008]\n",
      "[200 epo]: TRAIN:[loss=0.007]\n",
      "[250 epo]: TRAIN:[loss=0.007]\n",
      "[300 epo]: TRAIN:[loss=0.006]\n",
      "[350 epo]: TRAIN:[loss=0.006]\n",
      "[400 epo]: TRAIN:[loss=0.006]\n",
      "[450 epo]: TRAIN:[loss=0.006]\n",
      "[500 epo]: TRAIN:[loss=0.006]\n",
      "Finished Training\n",
      "CPU times: user 637 ms, sys: 44.7 ms, total: 682 ms\n",
      "Wall time: 579 ms\n"
     ]
    }
   ],
   "source": [
    "%%time\n",
    "label_model.train_model(L, Y_dev=Y, n_epochs=500, log_train_every=50)"
   ]
  },
  {
   "cell_type": "markdown",
   "metadata": {},
   "source": [
    "You can test the quality of our label model on our dev set as a sanity check, but we'll see if we can do better in Step 3 by using the predictions of the label model to train a discriminative model over a larger feature set than just the outputs of these ten labeling functions."
   ]
  },
  {
   "cell_type": "code",
   "execution_count": 20,
   "metadata": {},
   "outputs": [
    {
     "name": "stdout",
     "output_type": "stream",
     "text": [
      "Trained Label Model Metrics:\n",
      "Accuracy: 0.602\n",
      "Precision: 0.596\n",
      "Recall: 0.632\n",
      "F1: 0.614\n",
      "        y=1    y=2   \n",
      " l=1    158    107   \n",
      " l=2    92     143   \n"
     ]
    }
   ],
   "source": [
    "print('Trained Label Model Metrics:')\n",
    "scores = label_model.score((L, Y), metric=['accuracy','precision', 'recall', 'f1'])"
   ]
  },
  {
   "cell_type": "markdown",
   "metadata": {},
   "source": [
    "### Classifier Base Class"
   ]
  },
  {
   "cell_type": "markdown",
   "metadata": {},
   "source": [
    "Following the data programming paradigm, we will use our label model's probabilistic (float) predictions as training labels for a discriminative end model. Because we want probabilistic labels, we use the `predict_proba()` method here. The predictions are in the form of an [n,k] np.ndarray of floats summing to 1.0 in each row, where `Y_ps[i,j]` is the predicted probability of the $i$th data point having true label $j$."
   ]
  },
  {
   "cell_type": "code",
   "execution_count": 21,
   "metadata": {},
   "outputs": [
    {
     "data": {
      "text/plain": [
       "array([[5.00000000e-01, 5.00000000e-01],\n",
       "       [9.99554623e-01, 4.45377107e-04],\n",
       "       [9.82690055e-01, 1.73099454e-02],\n",
       "       [5.00000000e-01, 5.00000000e-01],\n",
       "       [5.00000000e-01, 5.00000000e-01]])"
      ]
     },
     "execution_count": 21,
     "metadata": {},
     "output_type": "execute_result"
    }
   ],
   "source": [
    "# Y_train_ps stands for \"Y[labels]_train[split]_p[redicted]s[oft]\"\n",
    "Y_predicted = label_model.predict_proba(L)\n",
    "Y_predicted[0:5]"
   ]
  },
  {
   "cell_type": "code",
   "execution_count": 25,
   "metadata": {},
   "outputs": [
    {
     "name": "stdout",
     "output_type": "stream",
     "text": [
      "        y=1    y=2   \n",
      " l=1    150    95    \n",
      " l=2    100    155   \n"
     ]
    }
   ],
   "source": [
    "from metal.analysis import confusion_matrix\n",
    "Y_dev_p = label_model.predict(L)"
   ]
  },
  {
   "cell_type": "markdown",
   "metadata": {},
   "source": [
    "### Analysis tools"
   ]
  },
  {
   "cell_type": "code",
   "execution_count": 29,
   "metadata": {
    "scrolled": false
   },
   "outputs": [
    {
     "data": {
      "image/png": "[encoded data removed]",
      "text/plain": [
       "<Figure size 432x288 with 1 Axes>"
      ]
     },
     "metadata": {
      "needs_background": "light"
     },
     "output_type": "display_data"
    },
    {
     "data": {
      "image/png": "[encoded data removed]",
      "text/plain": [
       "<Figure size 432x288 with 1 Axes>"
      ]
     },
     "metadata": {
      "needs_background": "light"
     },
     "output_type": "display_data"
    }
   ],
   "source": [
    "try:\n",
    "    from metal.contrib.visualization.analysis import (\n",
    "        plot_predictions_histogram, \n",
    "        plot_probabilities_histogram,\n",
    "    )\n",
    "\n",
    "    plot_predictions_histogram(Y_dev_p, Y, title=\"Label Distribution\")\n",
    "\n",
    "    Y_dev_ps = label_model.predict_proba(L)\n",
    "    plot_probabilities_histogram(Y_dev_ps[:,0], title=\"Probablistic Label Distribution\")\n",
    "\n",
    "except ModuleNotFoundError:\n",
    "    print(\"The tools in contrib/visualization/ require matplotlib. Try `conda/pip install matplotlib`.\")"
   ]
  },
  {
   "cell_type": "markdown",
   "metadata": {},
   "source": [
    "## Step 3: Predict the labels"
   ]
  },
  {
   "cell_type": "code",
   "execution_count": null,
   "metadata": {},
   "outputs": [],
   "source": [
    "labels_on_unlabelled_db = label_model.predict_proba(X)"
   ]
  },
  {
   "cell_type": "code",
   "execution_count": null,
   "metadata": {},
   "outputs": [],
   "source": [
    "labels_on_unlabelled_db"
   ]
  },
  {
   "cell_type": "code",
   "execution_count": null,
   "metadata": {},
   "outputs": [],
   "source": [
    "np.save('new_labels', labels_on_unlabelled_db)"
   ]
  }
 ],
 "metadata": {
  "kernelspec": {
   "display_name": "Python [conda env:metal] *",
   "language": "python",
   "name": "conda-env-metal-py"
  },
  "language_info": {
   "codemirror_mode": {
    "name": "ipython",
    "version": 3
   },
   "file_extension": ".py",
   "mimetype": "text/x-python",
   "name": "python",
   "nbconvert_exporter": "python",
   "pygments_lexer": "ipython3",
   "version": "3.6.7"
  }
 },
 "nbformat": 4,
 "nbformat_minor": 2
}
