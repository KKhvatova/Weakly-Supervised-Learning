{
 "cells": [
  {
   "cell_type": "code",
   "execution_count": 2,
   "metadata": {},
   "outputs": [],
   "source": [
    "import pandas as pd\n",
    "import re\n",
    "import scipy\n",
    "import collections\n",
    "import numpy"
   ]
  },
  {
   "cell_type": "markdown",
   "metadata": {},
   "source": [
    "#### Import db with labels"
   ]
  },
  {
   "cell_type": "code",
   "execution_count": 2,
   "metadata": {},
   "outputs": [
    {
     "data": {
      "text/html": [
       "<div>\n",
       "<style scoped>\n",
       "    .dataframe tbody tr th:only-of-type {\n",
       "        vertical-align: middle;\n",
       "    }\n",
       "\n",
       "    .dataframe tbody tr th {\n",
       "        vertical-align: top;\n",
       "    }\n",
       "\n",
       "    .dataframe thead th {\n",
       "        text-align: right;\n",
       "    }\n",
       "</style>\n",
       "<table border=\"1\" class=\"dataframe\">\n",
       "  <thead>\n",
       "    <tr style=\"text-align: right;\">\n",
       "      <th></th>\n",
       "      <th>mn</th>\n",
       "      <th>2</th>\n",
       "      <th>preprocess_tweets</th>\n",
       "    </tr>\n",
       "  </thead>\n",
       "  <tbody>\n",
       "    <tr>\n",
       "      <th>0</th>\n",
       "      <td>Correct that's because, Mr #Blair you never go...</td>\n",
       "      <td>leave</td>\n",
       "      <td>correct that's because mr &lt;hashtag&gt; you never ...</td>\n",
       "    </tr>\n",
       "    <tr>\n",
       "      <th>1</th>\n",
       "      <td>Safer In #EU? No! No! No! Terrorists want the ...</td>\n",
       "      <td>leave</td>\n",
       "      <td>safer in &lt;hashtag&gt; no no no terrorists want th...</td>\n",
       "    </tr>\n",
       "    <tr>\n",
       "      <th>2</th>\n",
       "      <td>This. https://t.co/WRtzpWsxiT</td>\n",
       "      <td>leave</td>\n",
       "      <td>this &lt;url&gt;</td>\n",
       "    </tr>\n",
       "    <tr>\n",
       "      <th>3</th>\n",
       "      <td>We're going to be swamped by Turks and other f...</td>\n",
       "      <td>leave</td>\n",
       "      <td>we're going to be swamped by turks and other f...</td>\n",
       "    </tr>\n",
       "    <tr>\n",
       "      <th>4</th>\n",
       "      <td>#Lexit not #brexit! Public event with great sp...</td>\n",
       "      <td>leave</td>\n",
       "      <td>&lt;hashtag&gt; not &lt;hashtag&gt; public event with grea...</td>\n",
       "    </tr>\n",
       "  </tbody>\n",
       "</table>\n",
       "</div>"
      ],
      "text/plain": [
       "                                                  mn      2  \\\n",
       "0  Correct that's because, Mr #Blair you never go...  leave   \n",
       "1  Safer In #EU? No! No! No! Terrorists want the ...  leave   \n",
       "2                      This. https://t.co/WRtzpWsxiT  leave   \n",
       "3  We're going to be swamped by Turks and other f...  leave   \n",
       "4  #Lexit not #brexit! Public event with great sp...  leave   \n",
       "\n",
       "                                   preprocess_tweets  \n",
       "0  correct that's because mr <hashtag> you never ...  \n",
       "1  safer in <hashtag> no no no terrorists want th...  \n",
       "2                                         this <url>  \n",
       "3  we're going to be swamped by turks and other f...  \n",
       "4  <hashtag> not <hashtag> public event with grea...  "
      ]
     },
     "execution_count": 2,
     "metadata": {},
     "output_type": "execute_result"
    }
   ],
   "source": [
    "path = 'data/train_test_dataset.csv'\n",
    "df_positive_negative = pd.read_csv(path)\n",
    "df_positive_negative.head()"
   ]
  },
  {
   "cell_type": "code",
   "execution_count": 4,
   "metadata": {},
   "outputs": [],
   "source": [
    "tweets = df_positive_negative[df_positive_negative.columns[[0, 1]]]"
   ]
  },
  {
   "cell_type": "code",
   "execution_count": 5,
   "metadata": {},
   "outputs": [],
   "source": [
    "tweets.columns = ['tweet', 'label']"
   ]
  },
  {
   "cell_type": "code",
   "execution_count": 35,
   "metadata": {},
   "outputs": [
    {
     "data": {
      "text/html": [
       "<div>\n",
       "<style scoped>\n",
       "    .dataframe tbody tr th:only-of-type {\n",
       "        vertical-align: middle;\n",
       "    }\n",
       "\n",
       "    .dataframe tbody tr th {\n",
       "        vertical-align: top;\n",
       "    }\n",
       "\n",
       "    .dataframe thead th {\n",
       "        text-align: right;\n",
       "    }\n",
       "</style>\n",
       "<table border=\"1\" class=\"dataframe\">\n",
       "  <thead>\n",
       "    <tr style=\"text-align: right;\">\n",
       "      <th></th>\n",
       "      <th>tweet</th>\n",
       "      <th>label</th>\n",
       "    </tr>\n",
       "  </thead>\n",
       "  <tbody>\n",
       "    <tr>\n",
       "      <th>0</th>\n",
       "      <td>Stop using my money to peddle pro EU crap #Vot...</td>\n",
       "      <td>leave</td>\n",
       "    </tr>\n",
       "    <tr>\n",
       "      <th>1</th>\n",
       "      <td>Spread the Word https://t.co/JDgMoDqLnB #votel...</td>\n",
       "      <td>stay</td>\n",
       "    </tr>\n",
       "    <tr>\n",
       "      <th>2</th>\n",
       "      <td>@nanette0803 @viking_tiger @certual @LeaveEUOf...</td>\n",
       "      <td>stay</td>\n",
       "    </tr>\n",
       "    <tr>\n",
       "      <th>3</th>\n",
       "      <td>Trump backs Brexit, brands migration crisis a ...</td>\n",
       "      <td>stay</td>\n",
       "    </tr>\n",
       "    <tr>\n",
       "      <th>4</th>\n",
       "      <td>Waiting for backlash as campaign tells Trump t...</td>\n",
       "      <td>stay</td>\n",
       "    </tr>\n",
       "  </tbody>\n",
       "</table>\n",
       "</div>"
      ],
      "text/plain": [
       "                                               tweet  label\n",
       "0  Stop using my money to peddle pro EU crap #Vot...  leave\n",
       "1  Spread the Word https://t.co/JDgMoDqLnB #votel...   stay\n",
       "2  @nanette0803 @viking_tiger @certual @LeaveEUOf...   stay\n",
       "3  Trump backs Brexit, brands migration crisis a ...   stay\n",
       "4  Waiting for backlash as campaign tells Trump t...   stay"
      ]
     },
     "execution_count": 35,
     "metadata": {},
     "output_type": "execute_result"
    }
   ],
   "source": [
    "from sklearn.utils import shuffle\n",
    "tweets = shuffle(tweets)\n",
    "tweets = tweets.reset_index(drop=True)\n",
    "tweets.head()"
   ]
  },
  {
   "cell_type": "markdown",
   "metadata": {},
   "source": [
    "## Create label function"
   ]
  },
  {
   "cell_type": "markdown",
   "metadata": {},
   "source": [
    "### REMAIN"
   ]
  },
  {
   "cell_type": "code",
   "execution_count": 36,
   "metadata": {},
   "outputs": [],
   "source": [
    "# Common hashtag for stay in.\n",
    "MOST_COMMON_HASHTAG_REMAIN = r\"(?i)SayYes2Europe|(?i)StrongerIN|(?i)bremain|(?i)Stay|(?i)ukineu|(?i)votein|(?i)betteroffin|(?i)leadnotleave|(?i)VoteYES|(?i)yes2eu|(?i)yestoeu\""
   ]
  },
  {
   "cell_type": "code",
   "execution_count": 37,
   "metadata": {},
   "outputs": [],
   "source": [
    "# def function\n",
    "def most_common_hashtag(tweet_text):\n",
    "    return 1 if re.search(MOST_COMMON_HASHTAG_REMAIN, tweet_text) else 0"
   ]
  },
  {
   "cell_type": "code",
   "execution_count": 38,
   "metadata": {},
   "outputs": [
    {
     "data": {
      "text/plain": [
       "Counter({0: 398, 1: 102})"
      ]
     },
     "execution_count": 38,
     "metadata": {},
     "output_type": "execute_result"
    }
   ],
   "source": [
    "label_1_1 = []\n",
    "for line in tweets['tweet']:\n",
    "    label_1_1.append(most_common_hashtag(line))  \n",
    "   \n",
    "a1 = numpy.array(label_1_1)\n",
    "collections.Counter(a1)"
   ]
  },
  {
   "cell_type": "code",
   "execution_count": 39,
   "metadata": {},
   "outputs": [],
   "source": [
    "# vote ... REMAIN or voting ... REMAIN or vote ... Remain\n",
    "VOTE_REMAIN = r\"(?i)(?:vote|voting)\\s+((?:\\S+\\s+){0,7}?)remain|(?i)Remain|(?i)VoteRemain|(?i)voteremain\""
   ]
  },
  {
   "cell_type": "code",
   "execution_count": 40,
   "metadata": {},
   "outputs": [],
   "source": [
    "# def function\n",
    "def def_vote_remain(tweet_text):\n",
    "    return 1 if re.search(VOTE_REMAIN, tweet_text) else 0"
   ]
  },
  {
   "cell_type": "code",
   "execution_count": 41,
   "metadata": {},
   "outputs": [
    {
     "data": {
      "text/plain": [
       "Counter({0: 442, 1: 58})"
      ]
     },
     "execution_count": 41,
     "metadata": {},
     "output_type": "execute_result"
    }
   ],
   "source": [
    "label_2_1 = []\n",
    "for line in tweets['tweet']:\n",
    "    label_2_1.append(def_vote_remain(line))\n",
    "    \n",
    "b1 = numpy.array(label_2_1)\n",
    "collections.Counter(b1)"
   ]
  },
  {
   "cell_type": "markdown",
   "metadata": {},
   "source": [
    "### LEAVE"
   ]
  },
  {
   "cell_type": "code",
   "execution_count": 42,
   "metadata": {},
   "outputs": [],
   "source": [
    "HASHTAG_LEAVE = r\"(?i)euroscepticism|beLeave|betteroffout|britainout|LeaveEU|noTTIP|TakeControl|VoteLeave|VoteNO|voteout|end-of-europe|leaveeuofficial|NoThanksEU|nothankseu|ukleave-eu|vote-leave|leaving EU|strongOut|voteLeave|brexitnow|leaveEUOfficial\""
   ]
  },
  {
   "cell_type": "code",
   "execution_count": 43,
   "metadata": {},
   "outputs": [],
   "source": [
    "# def function\n",
    "def common_hashtag_leave(tweet_text):\n",
    "    return 2 if re.search(HASHTAG_LEAVE, tweet_text) else 0"
   ]
  },
  {
   "cell_type": "code",
   "execution_count": 44,
   "metadata": {},
   "outputs": [
    {
     "data": {
      "text/plain": [
       "Counter({0: 376, 2: 124})"
      ]
     },
     "execution_count": 44,
     "metadata": {},
     "output_type": "execute_result"
    }
   ],
   "source": [
    "label_3_1 = []\n",
    "for line in tweets['tweet']:\n",
    "    label_3_1.append(common_hashtag_leave(line))\n",
    "    \n",
    "c1 = numpy.array(label_3_1)\n",
    "collections.Counter(c1)"
   ]
  },
  {
   "cell_type": "code",
   "execution_count": 45,
   "metadata": {},
   "outputs": [],
   "source": [
    "# vote/voting leave\n",
    "VOTE_LEAVE = r\"(?i)(?:vote|voting)\\s+((?:\\S+\\s+){0,4}?)leave|(?i)vote_leave|vote leave|@vote_leave\""
   ]
  },
  {
   "cell_type": "code",
   "execution_count": 46,
   "metadata": {},
   "outputs": [],
   "source": [
    "# def function\n",
    "def def_vote_leave(tweet_text):\n",
    "    return 2 if re.search(VOTE_LEAVE, tweet_text, re.IGNORECASE) else 0"
   ]
  },
  {
   "cell_type": "code",
   "execution_count": 47,
   "metadata": {},
   "outputs": [
    {
     "data": {
      "text/plain": [
       "Counter({0: 465, 2: 35})"
      ]
     },
     "execution_count": 47,
     "metadata": {},
     "output_type": "execute_result"
    }
   ],
   "source": [
    "label_4_1 = []\n",
    "for line in tweets['tweet']:\n",
    "    label_4_1.append(def_vote_leave(line))\n",
    "    \n",
    "d1 = numpy.array(label_4_1)\n",
    "collections.Counter(d1)"
   ]
  },
  {
   "cell_type": "code",
   "execution_count": 48,
   "metadata": {},
   "outputs": [],
   "source": [
    "VOTE_LEAVE_UKIP = r\"(?i)voteukip|ukip|brexitnow|brexit win|brexit winning|leavingeu|leaveEU|leaveEUOfficial|eureferendum|better off\""
   ]
  },
  {
   "cell_type": "code",
   "execution_count": 49,
   "metadata": {},
   "outputs": [],
   "source": [
    "# def function\n",
    "def def_vote_leave_ukip(tweet_text):\n",
    "    return 2 if re.search(VOTE_LEAVE_UKIP, tweet_text) else 0"
   ]
  },
  {
   "cell_type": "code",
   "execution_count": 50,
   "metadata": {},
   "outputs": [
    {
     "data": {
      "text/plain": [
       "Counter({0: 421, 2: 79})"
      ]
     },
     "execution_count": 50,
     "metadata": {},
     "output_type": "execute_result"
    }
   ],
   "source": [
    "label_5_1 = []\n",
    "for line in tweets['tweet']:\n",
    "    label_5_1.append(def_vote_leave_ukip(line))\n",
    "\n",
    "e1 = numpy.array(label_5_1)\n",
    "collections.Counter(e1)"
   ]
  },
  {
   "cell_type": "markdown",
   "metadata": {},
   "source": [
    "### Create sparse matrix"
   ]
  },
  {
   "cell_type": "code",
   "execution_count": 51,
   "metadata": {},
   "outputs": [],
   "source": [
    "from scipy.sparse import coo_matrix\n",
    "import numpy as np"
   ]
  },
  {
   "cell_type": "code",
   "execution_count": 52,
   "metadata": {},
   "outputs": [],
   "source": [
    "labelling_function_result = np.column_stack((a1, b1, c1, d1, e1))"
   ]
  },
  {
   "cell_type": "code",
   "execution_count": 53,
   "metadata": {},
   "outputs": [
    {
     "data": {
      "text/plain": [
       "(500, 5)"
      ]
     },
     "execution_count": 53,
     "metadata": {},
     "output_type": "execute_result"
    }
   ],
   "source": [
    "labelling_function_result.shape"
   ]
  },
  {
   "cell_type": "code",
   "execution_count": 54,
   "metadata": {},
   "outputs": [
    {
     "data": {
      "text/plain": [
       "array([[0, 0, 2, 0, 0],\n",
       "       [0, 0, 2, 2, 0],\n",
       "       [0, 0, 2, 0, 2],\n",
       "       [0, 0, 0, 0, 0],\n",
       "       [1, 0, 0, 0, 0]])"
      ]
     },
     "execution_count": 54,
     "metadata": {},
     "output_type": "execute_result"
    }
   ],
   "source": [
    "labelling_function_result[0:5]"
   ]
  },
  {
   "cell_type": "code",
   "execution_count": 55,
   "metadata": {},
   "outputs": [],
   "source": [
    "labelling_dense_matrix = coo_matrix(labelling_function_result)"
   ]
  },
  {
   "cell_type": "code",
   "execution_count": 57,
   "metadata": {},
   "outputs": [],
   "source": [
    "labelling_dense_matrix = labelling_dense_matrix.tocsr()"
   ]
  },
  {
   "cell_type": "code",
   "execution_count": 59,
   "metadata": {},
   "outputs": [],
   "source": [
    "import scipy.sparse\n",
    "scipy.sparse.save_npz('gold_label_matrix.npz', labelling_dense_matrix)"
   ]
  },
  {
   "cell_type": "code",
   "execution_count": 60,
   "metadata": {},
   "outputs": [],
   "source": [
    "golden_labels = []\n",
    "for label in tweets['label']:\n",
    "    if label == 'leave':\n",
    "        golden_labels.append(2)\n",
    "    if label == 'stay':\n",
    "        golden_labels.append(1)"
   ]
  },
  {
   "cell_type": "code",
   "execution_count": 61,
   "metadata": {},
   "outputs": [
    {
     "data": {
      "text/plain": [
       "array([2, 1, 1, 1, 1])"
      ]
     },
     "execution_count": 61,
     "metadata": {},
     "output_type": "execute_result"
    }
   ],
   "source": [
    "golden_labels = np.asarray(golden_labels)\n",
    "golden_labels[0:5]"
   ]
  },
  {
   "cell_type": "code",
   "execution_count": 62,
   "metadata": {},
   "outputs": [],
   "source": [
    "np.save('gold_labels', golden_labels)"
   ]
  },
  {
   "cell_type": "markdown",
   "metadata": {},
   "source": [
    "### PROCESS DATA FOR FUTURE LABELING"
   ]
  },
  {
   "cell_type": "code",
   "execution_count": 4,
   "metadata": {},
   "outputs": [
    {
     "data": {
      "text/plain": [
       "2684"
      ]
     },
     "execution_count": 4,
     "metadata": {},
     "output_type": "execute_result"
    }
   ],
   "source": [
    "path2 = 'data/brexit_unlabelled.csv'\n",
    "brexit = pd.read_csv(path2)\n",
    "brexit.head()"
   ]
  },
  {
   "cell_type": "code",
   "execution_count": 64,
   "metadata": {},
   "outputs": [
    {
     "data": {
      "text/plain": [
       "Counter({0: 2362, 1: 322})"
      ]
     },
     "execution_count": 64,
     "metadata": {},
     "output_type": "execute_result"
    }
   ],
   "source": [
    "label_1_2 = []\n",
    "for line in brexit['0']:\n",
    "    label_1_2.append(most_common_hashtag(line))  \n",
    "   \n",
    "a2 = numpy.array(label_1_2)\n",
    "collections.Counter(a2)"
   ]
  },
  {
   "cell_type": "code",
   "execution_count": 66,
   "metadata": {},
   "outputs": [
    {
     "data": {
      "text/plain": [
       "Counter({0: 2342, 1: 342})"
      ]
     },
     "execution_count": 66,
     "metadata": {},
     "output_type": "execute_result"
    }
   ],
   "source": [
    "label_2_2 = []\n",
    "for line in  brexit['0']:\n",
    "    label_2_2.append(def_vote_remain(line))\n",
    "\n",
    "b2 = numpy.array(label_2_2)\n",
    "collections.Counter(b2)"
   ]
  },
  {
   "cell_type": "code",
   "execution_count": 67,
   "metadata": {},
   "outputs": [
    {
     "data": {
      "text/plain": [
       "Counter({0: 1941, 2: 743})"
      ]
     },
     "execution_count": 67,
     "metadata": {},
     "output_type": "execute_result"
    }
   ],
   "source": [
    "label_3_2 = []\n",
    "for line in  brexit['0']:\n",
    "    label_3_2.append(common_hashtag_leave(line))\n",
    "    \n",
    "c2 = numpy.array(label_3_2)\n",
    "collections.Counter(c2)    "
   ]
  },
  {
   "cell_type": "code",
   "execution_count": 68,
   "metadata": {},
   "outputs": [
    {
     "data": {
      "text/plain": [
       "Counter({0: 2516, 2: 168})"
      ]
     },
     "execution_count": 68,
     "metadata": {},
     "output_type": "execute_result"
    }
   ],
   "source": [
    "label_4_2 = []\n",
    "for line in brexit['0']:\n",
    "    label_4_2.append(def_vote_leave(line))\n",
    "\n",
    "d2 = numpy.array(label_4_2)\n",
    "collections.Counter(d2)"
   ]
  },
  {
   "cell_type": "code",
   "execution_count": 69,
   "metadata": {},
   "outputs": [
    {
     "data": {
      "text/plain": [
       "Counter({0: 2496, 2: 188})"
      ]
     },
     "execution_count": 69,
     "metadata": {},
     "output_type": "execute_result"
    }
   ],
   "source": [
    "label_5_2 = []\n",
    "for line in brexit['0']:\n",
    "    label_5_2.append(def_vote_leave_ukip(line))\n",
    "\n",
    "e2 = numpy.array(label_5_2)\n",
    "collections.Counter(e2)    "
   ]
  },
  {
   "cell_type": "markdown",
   "metadata": {},
   "source": [
    "### Create sparce matrix without labels"
   ]
  },
  {
   "cell_type": "code",
   "execution_count": 71,
   "metadata": {},
   "outputs": [],
   "source": [
    "lf_result_2 = np.column_stack((a2, b2, c2, d2, e2))"
   ]
  },
  {
   "cell_type": "code",
   "execution_count": 73,
   "metadata": {},
   "outputs": [],
   "source": [
    "lf_matrix_2 = coo_matrix(lf_result_2)"
   ]
  },
  {
   "cell_type": "code",
   "execution_count": 75,
   "metadata": {},
   "outputs": [],
   "source": [
    "lf_matrix_2 = lf_matrix_2.tocsr()"
   ]
  },
  {
   "cell_type": "code",
   "execution_count": 76,
   "metadata": {},
   "outputs": [],
   "source": [
    "scipy.sparse.save_npz('matrix_for_new_labels.npz', lf_matrix_2)"
   ]
  }
 ],
 "metadata": {
  "kernelspec": {
   "display_name": "Python 3",
   "language": "python",
   "name": "python3"
  },
  "language_info": {
   "codemirror_mode": {
    "name": "ipython",
    "version": 3
   },
   "file_extension": ".py",
   "mimetype": "text/x-python",
   "name": "python",
   "nbconvert_exporter": "python",
   "pygments_lexer": "ipython3",
   "version": "3.5.5"
  }
 },
 "nbformat": 4,
 "nbformat_minor": 2
}
